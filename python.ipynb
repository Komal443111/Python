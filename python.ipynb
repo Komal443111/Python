{
  "nbformat": 4,
  "nbformat_minor": 0,
  "metadata": {
    "colab": {
      "provenance": [],
      "authorship_tag": "ABX9TyNoZd7371SyDMMjcee5WaKJ",
      "include_colab_link": true
    },
    "kernelspec": {
      "name": "python3",
      "display_name": "Python 3"
    },
    "language_info": {
      "name": "python"
    }
  },
  "cells": [
    {
      "cell_type": "markdown",
      "metadata": {
        "id": "view-in-github",
        "colab_type": "text"
      },
      "source": [
        "<a href=\"https://colab.research.google.com/github/Komal443111/Python/blob/main/python.ipynb\" target=\"_parent\"><img src=\"https://colab.research.google.com/assets/colab-badge.svg\" alt=\"Open In Colab\"/></a>"
      ]
    },
    {
      "cell_type": "code",
      "execution_count": null,
      "metadata": {
        "colab": {
          "base_uri": "https://localhost:8080/"
        },
        "id": "brQhvZBtRu1n",
        "outputId": "a20b9fe1-2e9d-4576-c22c-3c43b0351013"
      },
      "outputs": [
        {
          "output_type": "stream",
          "name": "stdout",
          "text": [
            "hello world\n"
          ]
        }
      ],
      "source": [
        "print(\"hello world\")"
      ]
    },
    {
      "cell_type": "code",
      "source": [
        "# biodata\n",
        "\n",
        "user_name = input(\"Enter your Name\")\n",
        "father_name = input(\"Enter your Father's name\")\n",
        "age = int(input(\"Enter your Age\"))\n",
        "dob = input(\"Enter your Date of Birth\")\n",
        "gender = input(\"Enter your Gender\")\n",
        "state = input(\"Enter your State\")\n",
        "nationality = input(\"Enter your Nationality\")\n",
        "religion= input(\"Enter your Religion\")\n",
        "occupation= input(\"Enter your Occupation \")\n",
        "education=input(\"Enter your Education\")\n",
        "language=input(\"Enter Languages you know\")\n",
        "#Output\n",
        "\n",
        "print(\"Name: \",user_name)\n",
        "print(\"Father's name is: \",father_name)\n",
        "print(\"Age: \",age)\n",
        "print(\"DOB: \",dob)\n",
        "print(\"Gender: \", gender)\n",
        "print(\"State: \",state)\n",
        "print(\"Nationality: \",nationality)\n",
        "print(\"Religion: \",religion)\n",
        "print(\"Occupation: \",occupation)\n",
        "print(\"Education: \",education)\n",
        "print(\"Language:\",language)\n",
        "\n",
        "\n",
        "\n"
      ],
      "metadata": {
        "id": "nQB-tzATbrPd"
      },
      "execution_count": null,
      "outputs": []
    },
    {
      "cell_type": "code",
      "source": [
        "#get quantities\n",
        "pizza_quantity = int(input(\"Enter the number of pizza: \"))\n",
        "burger_quantity = int(input(\"Enter the number of burger: \"))\n",
        "pasta_quantity = int(input(\"Enter the quantity of pasta: \"))\n",
        "sandwiches_quantity =int(input(\"Enter the number of sandwiches: \"))\n",
        "# calculate prices\n",
        "pizza_price = pizza_quantity*400\n",
        "burger_price = burger_quantity*100\n",
        "pasta_price = pasta_quantity*100\n",
        "sandwiches_price = sandwiches_quantity*100\n",
        "#calculate single product\n",
        "print(\"pizza actual price\",pizza_price)\n",
        "discout_in_pizza = pizza_price*5/100\n",
        "with_discout= pizza_price - discout_in_pizza\n",
        "print(\"With discout pizza prize\",with_discout)\n",
        "print(\"Burger price\",burger_price)\n",
        "print(\"Pasta price\",pasta_price)\n",
        "print(\"Sandwich prize\",sandwiches_price)\n",
        "# calculate the total bill\n",
        "total_bill = (with_discout+burger_price+pasta_price+sandwiches_price)\n",
        "# display total bill\n",
        "print(\"Total bill: \", total_bill)\n",
        "discout= total_bill*10/100\n",
        "total_discout= total_bill-discout\n",
        "print(\"Discout\",total_discout)\n",
        "\n",
        "# offer\n",
        "cpn= input(\"enter the coupan code \")\n",
        "if cpn ==\"ES432\":\n",
        "  coupan_discout_percent=10\n",
        "  payable_amount= total_discout*coupan_discout_percent/100\n",
        "  total_product_price =total_discout-payable_amount\n",
        "  print(\"Coupan Avail\",total_product_price)\n",
        "\n",
        "else:\n",
        "  wrong_coupan=0\n",
        "  payable_amount=total_discout*wrong_coupan/100\n",
        "  total_product_price = total_discout-payable_amount\n",
        "  print(\"Invalid code\",total_product_price)\n",
        "\n",
        "#delivery charges\n",
        "if total_product_price>=400:\n",
        "  print(\"delivery charges free\",total_product_price)\n",
        "else:\n",
        "  print(\"Delivery charges add\",total_product_price+50)\n"
      ],
      "metadata": {
        "id": "zlJfjXZ6p7ge",
        "colab": {
          "base_uri": "https://localhost:8080/"
        },
        "outputId": "e1438b71-e9a4-4b88-f317-2dc5c8323cb4"
      },
      "execution_count": null,
      "outputs": [
        {
          "output_type": "stream",
          "name": "stdout",
          "text": [
            "Enter the number of pizza: 0\n",
            "Enter the number of burger: 0\n",
            "Enter the quantity of pasta: 1\n",
            "Enter the number of sandwiches: 0\n",
            "pizza actual price 0\n",
            "With discout pizza prize 0.0\n",
            "Burger price 0\n",
            "Pasta price 100\n",
            "Sandwich prize 0\n",
            "Total bill:  100.0\n",
            "Discout 90.0\n",
            "enter the coupan code ES432\n",
            "Coupan Avail 81.0\n",
            "Delivery charges add 131.0\n"
          ]
        }
      ]
    },
    {
      "cell_type": "code",
      "source": [
        "Gender = input(\"Enter Your Gender: \")\n",
        "Age = int(input(\"Enter your age: \"))\n",
        "if Gender == \"Male\":\n",
        "          print(\"Block A\")\n",
        "          if Age<=30:\n",
        "            print(\"age is less than or equal to 30 \")\n",
        "\n",
        "elif Gender == \"Female\":\n",
        "  print(\"Block b\")\n",
        "  if Age>30:\n",
        "    print(\"Age is greter than 30\")\n",
        "else:\n",
        "  print(\"Invalid\")\n",
        "\n",
        "\n"
      ],
      "metadata": {
        "id": "U4aatrtyr1oB"
      },
      "execution_count": null,
      "outputs": []
    },
    {
      "cell_type": "code",
      "source": [
        "import math\n",
        "Radius = int(input(\"Enter the Radius: \"))\n",
        "area = math.pi*(Radius*Radius)\n",
        "print(\"Area of circle is:\",area)\n",
        "Perimeter = 2*math.pi*Radius\n",
        "print(\"Perimeter of circle is :\",Perimeter)"
      ],
      "metadata": {
        "id": "uxACUqxD1fUz",
        "colab": {
          "base_uri": "https://localhost:8080/"
        },
        "outputId": "a484f4a7-141b-4a2d-b55c-665b95c78d32"
      },
      "execution_count": null,
      "outputs": [
        {
          "output_type": "stream",
          "name": "stdout",
          "text": [
            "Enter the Radius: 10\n",
            "Area of circle is: 314.1592653589793\n",
            "Perimeter of circle is : 62.83185307179586\n"
          ]
        }
      ]
    },
    {
      "cell_type": "code",
      "source": [
        "p = int(input(\"Enter the p amount\"))\n",
        "r = int(input(\"enter the rate\"))\n",
        "t = int(input(\"enter time\"))\n",
        "Simple_interest = p*r*t/100\n",
        "print(Simple_interest)"
      ],
      "metadata": {
        "id": "Gt_YKwuBlAkY"
      },
      "execution_count": null,
      "outputs": []
    },
    {
      "cell_type": "code",
      "source": [
        "P = float(input(\"Enter p \"))\n",
        "R = float(input(\"Enter rate \"))\n",
        "M = float(input(\"Enter the months \"))\n",
        "D = int(input(\"Enter days \"))\n",
        "T = M + D/30\n",
        "Simple_interest = P*R*T/100\n",
        "print(Simple_interest)\n"
      ],
      "metadata": {
        "id": "Gt-QUjz3ptqa"
      },
      "execution_count": null,
      "outputs": []
    }
  ]
}