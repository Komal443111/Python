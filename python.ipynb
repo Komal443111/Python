{
  "nbformat": 4,
  "nbformat_minor": 0,
  "metadata": {
    "colab": {
      "provenance": [],
      "authorship_tag": "ABX9TyNEUpokNMQJ72XKg30QjmQB",
      "include_colab_link": true
    },
    "kernelspec": {
      "name": "python3",
      "display_name": "Python 3"
    },
    "language_info": {
      "name": "python"
    }
  },
  "cells": [
    {
      "cell_type": "markdown",
      "metadata": {
        "id": "view-in-github",
        "colab_type": "text"
      },
      "source": [
        "<a href=\"https://colab.research.google.com/github/Komal443111/Python/blob/main/python.ipynb\" target=\"_parent\"><img src=\"https://colab.research.google.com/assets/colab-badge.svg\" alt=\"Open In Colab\"/></a>"
      ]
    },
    {
      "cell_type": "code",
      "execution_count": null,
      "metadata": {
        "id": "brQhvZBtRu1n"
      },
      "outputs": [],
      "source": [
        "print(\"hello world\")"
      ]
    },
    {
      "cell_type": "code",
      "source": [
        "\n",
        "# biodata\n",
        "\n",
        "user_name = input(\"Enter your Name\")\n",
        "father_name = input(\"Enter your Father's name\")\n",
        "age = int(input(\"Enter your Age\"))\n",
        "dob = input(\"Enter your Date of Birth\")\n",
        "gender = input(\"Enter your Gender\")\n",
        "state = input(\"Enter your State\")\n",
        "nationality = input(\"Enter your Nationality\")\n",
        "religion= input(\"Enter your Religion\")\n",
        "occupation= input(\"Enter your Occupation \")\n",
        "education=input(\"Enter your Education\")\n",
        "language=input(\"Enter Languages you know\")\n",
        "\n",
        "#Output\n",
        "print(\"Name: \",user_name)\n",
        "print(\"Father's name is: \",father_name)\n",
        "print(\"Age: \",age)\n",
        "print(\"DOB: \",dob)\n",
        "print(\"Gender: \", gender)\n",
        "print(\"State: \",state)\n",
        "print(\"Nationality: \",nationality)\n",
        "print(\"Religion: \",religion)\n",
        "print(\"Occupation: \",occupation)\n",
        "print(\"Education: \",education)\n",
        "print(\"Language:\",language)\n",
        "\n",
        "\n",
        "\n"
      ],
      "metadata": {
        "id": "nQB-tzATbrPd"
      },
      "execution_count": null,
      "outputs": []
    },
    {
      "cell_type": "code",
      "source": [
        "#get quantities\n",
        "pizza_quantity = int(input(\"Enter the number of pizza: \"))\n",
        "burger_quantity = int(input(\"Enter the number of burger: \"))\n",
        "pasta_quantity = int(input(\"Enter the quantity of pasta: \"))\n",
        "sandwiches_quantity =int(input(\"Enter the number of sandwiches: \"))\n",
        "# calculate prices\n",
        "pizza_price = pizza_quantity*400\n",
        "burger_price = burger_quantity*100\n",
        "pasta_price = pasta_quantity*100\n",
        "sandwiches_price = sandwiches_quantity*100\n",
        "#calculate single product\n",
        "print(\"pizza actual price\",pizza_price)\n",
        "discout_in_pizza = pizza_price*5/100\n",
        "with_discout= pizza_price - discout_in_pizza\n",
        "print(\"With discout pizza prize\",with_discout)\n",
        "print(\"Burger price\",burger_price)\n",
        "print(\"Pasta price\",pasta_price)\n",
        "print(\"Sandwich prize\",sandwiches_price)\n",
        "# calculate the total bill\n",
        "total_bill = (with_discout+burger_price+pasta_price+sandwiches_price)\n",
        "# display total bill\n",
        "print(\"Total bill: \", total_bill)\n",
        "discout= total_bill*10/100\n",
        "total_discout= total_bill-discout\n",
        "print(\"Discout\",total_discout)\n",
        "\n",
        "# offer\n",
        "cpn= input(\"enter the coupan code \")\n",
        "if cpn ==\"ES432\":\n",
        "  coupan_discout_percent=10\n",
        "  payable_amount= total_discout*coupan_discout_percent/100\n",
        "  total_product_price =total_discout-payable_amount\n",
        "  print(\"Coupan Avail\",total_product_price)\n",
        "\n",
        "else:\n",
        "  wrong_coupan=0\n",
        "  payable_amount=total_discout*wrong_coupan/100\n",
        "  total_product_price = total_discout-payable_amount\n",
        "  print(\"Invalid code\",total_product_price)\n",
        "\n",
        "#delivery charges\n",
        "if total_product_price>=400:\n",
        "  print(\"delivery charges free\",total_product_price)\n",
        "else:\n",
        "  print(\"Delivery charges add\",total_product_price+50)\n"
      ],
      "metadata": {
        "id": "zlJfjXZ6p7ge"
      },
      "execution_count": null,
      "outputs": []
    },
    {
      "cell_type": "code",
      "source": [
        "age = int(input(\"Enter your age\"))\n",
        "if age>=18:\n",
        "  print(\"You are eligible for voting\")\n",
        "elif age>=1:\n",
        "  print(\"Not eligible for voting\")\n",
        "else:\n",
        "  print(\"Please enter your right age\")"
      ],
      "metadata": {
        "colab": {
          "base_uri": "https://localhost:8080/"
        },
        "id": "g2nE_LRMponc",
        "outputId": "20bc4191-68ad-42d3-acc2-de3abfb02dd3"
      },
      "execution_count": null,
      "outputs": [
        {
          "output_type": "stream",
          "name": "stdout",
          "text": [
            "Enter your age15\n",
            "Not eligible for voting\n"
          ]
        }
      ]
    },
    {
      "cell_type": "code",
      "source": [
        "Gender = input(\"Enter Your Gender: \")\n",
        "Age = int(input(\"Enter your age: \"))\n",
        "if Gender == \"Male\":\n",
        "          print(\"Block A\")\n",
        "          if Age<=30:\n",
        "            print(\"age is less than or equal to 30 \")\n",
        "\n",
        "elif Gender == \"Female\":\n",
        "  print(\"Block b\")\n",
        "  if Age>30:\n",
        "    print(\"Age is greter than 30\")\n",
        "else:\n",
        "  print(\"Invalid\")\n",
        "\n",
        "\n"
      ],
      "metadata": {
        "id": "U4aatrtyr1oB"
      },
      "execution_count": null,
      "outputs": []
    },
    {
      "cell_type": "code",
      "source": [
        "num1= float(input(\"Enter the first number: \"))\n",
        "op = input(\"Enter the Operator(+,-,*,/): \")\n",
        "num2= float(input(\"Enter the second number: \"))\n",
        "if op=='+':\n",
        "  print(\"Result is: \",num1+num2)\n",
        "elif op=='-':\n",
        "  print(\"Result is: \",num1-num2)\n",
        "elif op=='*':\n",
        "  print(\"Result is: \",num1*num2)\n",
        "elif op=='/':\n",
        "  if num2!=0:\n",
        "    print(\"Result is: \",num1/num2)\n",
        "  else:\n",
        "    print(\"Error not divisible by zero\")\n",
        "else:\n",
        "  print(\"Wrong operator\")"
      ],
      "metadata": {
        "id": "fD9-fdex4uqT",
        "colab": {
          "base_uri": "https://localhost:8080/"
        },
        "outputId": "ec19fcfc-e896-4f0d-bece-4917947097fa"
      },
      "execution_count": null,
      "outputs": [
        {
          "output_type": "stream",
          "name": "stdout",
          "text": [
            "Enter the first number: 10.3\n",
            "Enter the Operator(+,-,*,/): +\n",
            "Enter the second number: 12.3\n",
            "Result is:  22.6\n"
          ]
        }
      ]
    },
    {
      "cell_type": "code",
      "source": [
        "import math\n",
        "Radius = int(input(\"Enter the Radius: \"))\n",
        "area = math.pi*(Radius*Radius)\n",
        "print(\"Area of circle is:\",area)\n",
        "Perimeter = 2*math.pi*Radius\n",
        "print(\"Perimeter of circle is :\",Perimeter)"
      ],
      "metadata": {
        "id": "uxACUqxD1fUz",
        "colab": {
          "base_uri": "https://localhost:8080/"
        },
        "outputId": "90527dfa-c736-4b44-d95c-f1ede888d2f8"
      },
      "execution_count": null,
      "outputs": [
        {
          "output_type": "stream",
          "name": "stdout",
          "text": [
            "Enter the Radius: 6\n",
            "Area of circle is: 113.09733552923255\n",
            "Perimeter of circle is : 37.69911184307752\n"
          ]
        }
      ]
    },
    {
      "cell_type": "code",
      "source": [
        "p = int(input(\"Enter the p amount\"))\n",
        "r = int(input(\"enter the rate\"))\n",
        "t = int(input(\"enter time\"))\n",
        "Simple_interest = p*r*t/100\n",
        "print(Simple_interest)"
      ],
      "metadata": {
        "id": "Gt_YKwuBlAkY"
      },
      "execution_count": null,
      "outputs": []
    },
    {
      "cell_type": "code",
      "source": [
        "P = float(input(\"Enter p: \"))\n",
        "R = float(input(\"Enter rate: \"))\n",
        "M = float(input(\"Enter the months: \"))\n",
        "D = int(input(\"Enter days: \"))\n",
        "T = M + D/30\n",
        "Simple_interest = P*R*T/100\n",
        "print(\"Simple interest is:\",Simple_interest)\n"
      ],
      "metadata": {
        "id": "Gt-QUjz3ptqa"
      },
      "execution_count": null,
      "outputs": []
    },
    {
      "cell_type": "code",
      "source": [
        "#simple interest\n",
        "p = int(input(\"Enter principle: \"))\n",
        "r = int(input(\"Enter rate: \"))\n",
        "m = input(\"Enter month: \")\n",
        "month = int(input(\"Enter the month: \"))\n",
        "y= int(input(\"Enter year: \"))\n",
        "d = int(input(\"Enter days: \"))\n",
        "\n",
        "if m == \"january\" or \"march\" or \"may\" or \"july\" or \"august\" or \"october\" or \"december\":\n",
        "    t = month+d/31\n",
        "elif m == \"april\" or \"june\" or \"september\" or\"november\":\n",
        "    t = month+ d/30\n",
        "elif m==\"february\":\n",
        "    if y%4==0 and y % 100!=0 or y % 400==0:\n",
        "      t= month+d/29\n",
        "    else:\n",
        "      t= month+ d/28\n",
        "else:\n",
        "  print(\"invalid\")\n",
        "\n",
        "si = p*r*t/100\n",
        "print(\"Simple Interest:\", si)\n",
        "print(m)\n",
        "print(\"Total amount: \",si+p)"
      ],
      "metadata": {
        "id": "UnZmppPJnnc5",
        "colab": {
          "base_uri": "https://localhost:8080/"
        },
        "outputId": "2911baef-0276-4663-be33-13ccd4acb669"
      },
      "execution_count": null,
      "outputs": [
        {
          "output_type": "stream",
          "name": "stdout",
          "text": [
            "Enter principle: 6000\n",
            "Enter rate: 6\n",
            "Enter month: july\n",
            "Enter the month: 2\n",
            "Enter year: 2021\n",
            "Enter days: 12\n",
            "Simple Interest: 859.3548387096774\n",
            "july\n",
            "Total amount:  6859.354838709677\n"
          ]
        }
      ]
    },
    {
      "cell_type": "code",
      "source": [
        "#leap year\n",
        "year = int(input(\"Enter year :\"))\n",
        "if year % 4 ==0 and year % 100 != 0 or year % 400 == 0:\n",
        "  print(\"leap year\")\n",
        "else:\n",
        "  print(\"not leap year\")"
      ],
      "metadata": {
        "colab": {
          "base_uri": "https://localhost:8080/"
        },
        "id": "UH5gK5jRuuY0",
        "outputId": "bb6a5518-2a58-47f4-83f0-2b1f3c665110"
      },
      "execution_count": null,
      "outputs": [
        {
          "output_type": "stream",
          "name": "stdout",
          "text": [
            "Enter year :2000\n",
            "leap year\n"
          ]
        }
      ]
    },
    {
      "cell_type": "code",
      "source": [
        "#traffic lights\n",
        "direction = input(\"Enter direction: \")\n",
        "if direction == \"north\":\n",
        "  print(\"(north in) is green\")\n",
        "  print(\"(east in) is red\")\n",
        "  print(\"(south in) is red\")\n",
        "  print(\"(west in) is red\")\n",
        "\n",
        "elif direction == \"south\":\n",
        "    print(\"(south in) is green\")\n",
        "    print(\"(west in) is red\")\n",
        "    print(\"(north in) is green\")\n",
        "    print(\"(east in) is green\")\n",
        "elif direction== \"west\":\n",
        "  print(\"(west in) is green\")\n",
        "  print(\"(north in) is red \")\n",
        "  print(\"(south in) is red\")\n",
        "  print(\"(east in )is red\")\n",
        "elif direction== \"east\":\n",
        "  print(\"(east in) is green\")\n",
        "  print(\"(south in) is red\")\n",
        "  print(\"(north in) is red\")\n",
        "  print(\"(west in) is red\")\n",
        "else:\n",
        "  print(\"invalid direction\")"
      ],
      "metadata": {
        "colab": {
          "base_uri": "https://localhost:8080/"
        },
        "id": "e5a778MJi9dK",
        "outputId": "110f99ee-2239-4dc7-e59f-22433423ea17"
      },
      "execution_count": null,
      "outputs": [
        {
          "output_type": "stream",
          "name": "stdout",
          "text": [
            "Enter direction: north\n",
            "north is green\n",
            "east is red\n"
          ]
        }
      ]
    },
    {
      "cell_type": "code",
      "source": [
        "#sum from 1 to 1000\n",
        "a = int(input(\"Enter fist term: \"))\n",
        "l = int(input(\"Enter last term: \"))\n",
        "n = int(input(\"Enter n: \"))\n",
        "print(\"the sum is:\",n/2*(a+l))"
      ],
      "metadata": {
        "colab": {
          "base_uri": "https://localhost:8080/"
        },
        "id": "UNqjR2CWLDD_",
        "outputId": "8b8dcc04-c00d-4620-8063-bfae6ba32449"
      },
      "execution_count": null,
      "outputs": [
        {
          "output_type": "stream",
          "name": "stdout",
          "text": [
            "Enter fist term: 1\n",
            "Enter last term: 1000\n",
            "Enter n: 1000\n",
            "the sum is: 500500.0\n"
          ]
        }
      ]
    },
    {
      "cell_type": "code",
      "source": [
        "#sum from 1 to 1000\n",
        "a1 = int(input(\"Enter first term: \"))\n",
        "a2 = int(input(\"Enter second term: \"))\n",
        "n = int(input(\"Enter n: \"))\n",
        "d = a2-a1\n",
        "print(\"The difference is: \",d)\n",
        "print(\"the sum is:\",n/2*(a1+a1+(n-1)*d))\n"
      ],
      "metadata": {
        "colab": {
          "base_uri": "https://localhost:8080/"
        },
        "id": "eZ7cjenQOUAn",
        "outputId": "79fc48c0-d33a-4d9d-bee4-9e0251644142"
      },
      "execution_count": null,
      "outputs": [
        {
          "output_type": "stream",
          "name": "stdout",
          "text": [
            "Enter first term: 3\n",
            "Enter second term: 7\n",
            "Enter n: 150\n",
            "The difference is:  4\n",
            "the sum is: 45150.0\n"
          ]
        }
      ]
    },
    {
      "cell_type": "code",
      "source": [
        "for i in range(5):\n",
        "  print(i)"
      ],
      "metadata": {
        "id": "WwZDHGg8dIAB"
      },
      "execution_count": null,
      "outputs": []
    },
    {
      "cell_type": "code",
      "source": [
        "for i in range(1,5):\n",
        "  print(i)"
      ],
      "metadata": {
        "id": "E3sSYz_cecU9"
      },
      "execution_count": null,
      "outputs": []
    },
    {
      "cell_type": "code",
      "source": [
        "sum = 0\n",
        "for i in range(1,101):\n",
        "  sum+=i\n",
        "print(sum)"
      ],
      "metadata": {
        "id": "rE5IEUjih8eh",
        "colab": {
          "base_uri": "https://localhost:8080/"
        },
        "outputId": "c97680be-924a-47d4-e08a-77a4110d31f5"
      },
      "execution_count": null,
      "outputs": [
        {
          "output_type": "stream",
          "name": "stdout",
          "text": [
            "5050\n"
          ]
        }
      ]
    },
    {
      "cell_type": "code",
      "source": [
        "a1 = int(input(\"Enter first term: \"))\n",
        "a2 = int(input(\"Enter second term: \"))\n",
        "d= a2-a1\n",
        "n = int(input(\"Enter n terms: \"))\n",
        "last_term = a1+(n-1)*d\n",
        "sum = 0\n",
        "for i in range(3,last_term,d):\n",
        "  sum+=i\n",
        "print(sum)"
      ],
      "metadata": {
        "colab": {
          "base_uri": "https://localhost:8080/"
        },
        "id": "gN0KFw6Qc4hm",
        "outputId": "b76c7dfa-ab75-49fa-fa3e-2fdadb4e5370"
      },
      "execution_count": null,
      "outputs": [
        {
          "output_type": "stream",
          "name": "stdout",
          "text": [
            "Enter first term: 3\n",
            "Enter second term: 7\n",
            "Enter n terms: 150\n",
            "44551\n"
          ]
        }
      ]
    },
    {
      "cell_type": "code",
      "source": [
        "sum=0\n",
        "for i in range(1,1002,5):\n",
        "  sum+=i\n",
        "print(sum)"
      ],
      "metadata": {
        "colab": {
          "base_uri": "https://localhost:8080/"
        },
        "id": "QboNCR9WiKsV",
        "outputId": "984f7610-9f5b-4714-ed18-75e997dfa28c"
      },
      "execution_count": null,
      "outputs": [
        {
          "output_type": "stream",
          "name": "stdout",
          "text": [
            "100701\n"
          ]
        }
      ]
    },
    {
      "cell_type": "code",
      "source": [
        "fact = 1\n",
        "for i in range(1,6):\n",
        "  fact= fact*i\n",
        "print(fact)"
      ],
      "metadata": {
        "id": "YM1UT1AskcXM",
        "colab": {
          "base_uri": "https://localhost:8080/"
        },
        "outputId": "64f23cfa-608d-4e4f-9700-f1b7e8806290"
      },
      "execution_count": null,
      "outputs": [
        {
          "output_type": "stream",
          "name": "stdout",
          "text": [
            "120\n"
          ]
        }
      ]
    },
    {
      "cell_type": "code",
      "source": [
        "first_term =0\n",
        "second_term =1\n",
        "print(first_term)\n",
        "print(second_term)\n",
        "for i in range(2,11):\n",
        " third_term = first_term+second_term\n",
        " first_term = second_term\n",
        " second_term = third_term\n",
        " print(third_term)"
      ],
      "metadata": {
        "id": "IDF9Nmz5lCqA",
        "outputId": "c836e9ab-77b1-4fcb-826a-507f18a1fcb3",
        "colab": {
          "base_uri": "https://localhost:8080/"
        }
      },
      "execution_count": null,
      "outputs": [
        {
          "output_type": "stream",
          "name": "stdout",
          "text": [
            "0\n",
            "1\n",
            "1\n",
            "2\n",
            "3\n",
            "5\n",
            "8\n",
            "13\n",
            "21\n",
            "34\n",
            "55\n"
          ]
        }
      ]
    },
    {
      "cell_type": "code",
      "source": [
        "for i in range(9,5,-1):\n",
        "  print(i)"
      ],
      "metadata": {
        "colab": {
          "base_uri": "https://localhost:8080/"
        },
        "id": "fXoMaYXHpMPq",
        "outputId": "363dc92c-ce95-4466-fb4d-e202b399b134"
      },
      "execution_count": null,
      "outputs": [
        {
          "output_type": "stream",
          "name": "stdout",
          "text": [
            "9\n",
            "8\n",
            "7\n",
            "6\n"
          ]
        }
      ]
    },
    {
      "cell_type": "code",
      "source": [
        "fact=1\n",
        "sum=0\n",
        "for i in range(1,3):\n",
        "  fact=fact*i\n",
        "  sum+=fact\n",
        "print(sum)"
      ],
      "metadata": {
        "colab": {
          "base_uri": "https://localhost:8080/"
        },
        "id": "YbPEtMPiqPWr",
        "outputId": "546798a8-ca3b-4c06-ea1e-75498221bfd0"
      },
      "execution_count": null,
      "outputs": [
        {
          "output_type": "stream",
          "name": "stdout",
          "text": [
            "3\n"
          ]
        }
      ]
    },
    {
      "cell_type": "code",
      "source": [
        "num=12\n",
        "sum=0\n",
        "while num>0:\n",
        "  digit=num%10\n",
        "  sum=sum+digit\n",
        "  num=int(num/10)\n",
        "print(sum)"
      ],
      "metadata": {
        "colab": {
          "base_uri": "https://localhost:8080/"
        },
        "id": "xUuOErZxxgUX",
        "outputId": "dd6233af-093e-43e3-b000-254c4137630c"
      },
      "execution_count": null,
      "outputs": [
        {
          "output_type": "stream",
          "name": "stdout",
          "text": [
            "3\n"
          ]
        }
      ]
    },
    {
      "cell_type": "code",
      "source": [
        "num=int(input(\"Enter the numbers: \"))\n",
        "sum=0\n",
        "while num>0:\n",
        "  digit=num%10\n",
        "  sum=sum+digit\n",
        "  num=num//10\n",
        "print(sum)"
      ],
      "metadata": {
        "colab": {
          "base_uri": "https://localhost:8080/"
        },
        "id": "Wfir6b8P4kdl",
        "outputId": "b6c838db-8cd5-48bc-e9bb-c56d0e059b92"
      },
      "execution_count": null,
      "outputs": [
        {
          "output_type": "stream",
          "name": "stdout",
          "text": [
            "Enter the numbers: 456\n",
            "15\n"
          ]
        }
      ]
    },
    {
      "cell_type": "code",
      "source": [
        "num= 897\n",
        "rev = 0\n",
        "while num>0:\n",
        "  digit=num%10\n",
        "  rev = rev*10+digit\n",
        "  num = int(num/10)\n",
        "print(rev)"
      ],
      "metadata": {
        "colab": {
          "base_uri": "https://localhost:8080/"
        },
        "id": "6sCJPTR12G3b",
        "outputId": "dae73ab9-bcd4-460f-ef2a-00a59d26d9a0"
      },
      "execution_count": null,
      "outputs": [
        {
          "output_type": "stream",
          "name": "stdout",
          "text": [
            "798\n"
          ]
        }
      ]
    },
    {
      "cell_type": "code",
      "source": [
        "sum=0\n",
        "for i in range(1,101):\n",
        "  square =i*i\n",
        "  sum=sum+square\n",
        "  # print(square)\n",
        "print(sum)"
      ],
      "metadata": {
        "colab": {
          "base_uri": "https://localhost:8080/"
        },
        "id": "Nw7q2Bfn91Mz",
        "outputId": "7af6c463-1b20-44f1-da07-3a0f571ce336"
      },
      "execution_count": null,
      "outputs": [
        {
          "output_type": "stream",
          "name": "stdout",
          "text": [
            "338350\n"
          ]
        }
      ]
    },
    {
      "cell_type": "code",
      "source": [
        "num= int(input(\"Enter the number\"))\n",
        "for i in range(2,num):\n",
        "  for j in range(2,i):\n",
        "    if i%j==0:\n",
        "      break\n",
        "  else:\n",
        "   print(i)\n"
      ],
      "metadata": {
        "id": "ps1wf9ax-biC"
      },
      "execution_count": null,
      "outputs": []
    },
    {
      "cell_type": "code",
      "source": [
        "num=565\n",
        "temp= num\n",
        "rev=0\n",
        "while num>0:\n",
        " digit = num%10\n",
        " rev=rev*10+digit\n",
        " num=int(num/10)\n",
        "print(rev)\n",
        "# print(num)\n",
        "if temp==rev:\n",
        "  print(\"palindrome\")\n",
        "else:\n",
        "  print(\"not palindrome\")"
      ],
      "metadata": {
        "colab": {
          "base_uri": "https://localhost:8080/"
        },
        "id": "Mage9z4QJTuw",
        "outputId": "62b68331-7fe8-4b31-b398-a9cdcdd857a7"
      },
      "execution_count": null,
      "outputs": [
        {
          "output_type": "stream",
          "name": "stdout",
          "text": [
            "565\n",
            "palindrome\n"
          ]
        }
      ]
    }
  ]
}