{
  "nbformat": 4,
  "nbformat_minor": 0,
  "metadata": {
    "colab": {
      "provenance": [],
      "authorship_tag": "ABX9TyMmO9+g4Dtjf7OoOC9Qii2X",
      "include_colab_link": true
    },
    "kernelspec": {
      "name": "python3",
      "display_name": "Python 3"
    },
    "language_info": {
      "name": "python"
    }
  },
  "cells": [
    {
      "cell_type": "markdown",
      "metadata": {
        "id": "view-in-github",
        "colab_type": "text"
      },
      "source": [
        "<a href=\"https://colab.research.google.com/github/Komal443111/Python/blob/main/python.ipynb\" target=\"_parent\"><img src=\"https://colab.research.google.com/assets/colab-badge.svg\" alt=\"Open In Colab\"/></a>"
      ]
    },
    {
      "cell_type": "code",
      "execution_count": null,
      "metadata": {
        "id": "brQhvZBtRu1n",
        "colab": {
          "base_uri": "https://localhost:8080/"
        },
        "outputId": "f256f74c-96f7-4f68-d778-a5db825f68f6"
      },
      "outputs": [
        {
          "output_type": "stream",
          "name": "stdout",
          "text": [
            "hello world\n"
          ]
        }
      ],
      "source": [
        "# print\n",
        "print(\"hello world\")"
      ]
    },
    {
      "cell_type": "code",
      "source": [
        "# biodata\n",
        "\n",
        "user_name = input(\"Enter your Name: \")\n",
        "father_name = input(\"Enter your Father's name: \")\n",
        "age = int(input(\"Enter your Age: \"))\n",
        "dob = input(\"Enter your Date of Birth: \")\n",
        "gender = input(\"Enter your Gender: \")\n",
        "state = input(\"Enter your State: \")\n",
        "nationality = input(\"Enter your Nationality: \")\n",
        "religion= input(\"Enter your Religion: \")\n",
        "occupation= input(\"Enter your Occupation: \")\n",
        "education=input(\"Enter your Education: \")\n",
        "language=input(\"Enter Languages you know: \")\n",
        "\n",
        "#Output\n",
        "print(\"Name: \",user_name)\n",
        "print(\"Father's name is: \",father_name)\n",
        "print(\"Age: \",age)\n",
        "print(\"DOB: \",dob)\n",
        "print(\"Gender: \", gender)\n",
        "print(\"State: \",state)\n",
        "print(\"Nationality: \",nationality)\n",
        "print(\"Religion: \",religion)\n",
        "print(\"Occupation: \",occupation)\n",
        "print(\"Education: \",education)\n",
        "print(\"Language:\",language)\n",
        "\n",
        "\n",
        "\n"
      ],
      "metadata": {
        "id": "nQB-tzATbrPd"
      },
      "execution_count": null,
      "outputs": []
    },
    {
      "cell_type": "code",
      "source": [
        "#get quantities\n",
        "pizza_quantity = int(input(\"Enter the number of pizza: \"))\n",
        "burger_quantity = int(input(\"Enter the number of burger: \"))\n",
        "pasta_quantity = int(input(\"Enter the quantity of pasta: \"))\n",
        "sandwiches_quantity =int(input(\"Enter the number of sandwiches: \"))\n",
        "# calculate prices\n",
        "pizza_price = pizza_quantity*400\n",
        "burger_price = burger_quantity*100\n",
        "pasta_price = pasta_quantity*100\n",
        "sandwiches_price = sandwiches_quantity*100\n",
        "#calculate single product\n",
        "print(\"pizza actual price\",pizza_price)\n",
        "discout_in_pizza = pizza_price*5/100\n",
        "with_discout= pizza_price - discout_in_pizza\n",
        "print(\"With discout pizza prize\",with_discout)\n",
        "print(\"Burger price\",burger_price)\n",
        "print(\"Pasta price\",pasta_price)\n",
        "print(\"Sandwich prize\",sandwiches_price)\n",
        "# calculate the total bill\n",
        "total_bill = (with_discout+burger_price+pasta_price+sandwiches_price)\n",
        "# display total bill\n",
        "print(\"Total bill: \", total_bill)\n",
        "discout= total_bill*10/100\n",
        "total_discout= total_bill-discout\n",
        "print(\"Discout\",total_discout)\n",
        "\n",
        "# offer\n",
        "cpn= input(\"enter the coupan code \")\n",
        "if cpn ==\"ES432\":\n",
        "  coupan_discout_percent=10\n",
        "  payable_amount= total_discout*coupan_discout_percent/100\n",
        "  total_product_price =total_discout-payable_amount\n",
        "  print(\"Coupan Avail\",total_product_price)\n",
        "\n",
        "else:\n",
        "  wrong_coupan=0\n",
        "  payable_amount=total_discout*wrong_coupan/100\n",
        "  total_product_price = total_discout-payable_amount\n",
        "  print(\"Invalid code\",total_product_price)\n",
        "\n",
        "#delivery charges\n",
        "if total_product_price>=400:\n",
        "  print(\"delivery charges free\",total_product_price)\n",
        "else:\n",
        "  print(\"Delivery charges add\",total_product_price+50)\n"
      ],
      "metadata": {
        "id": "zlJfjXZ6p7ge"
      },
      "execution_count": null,
      "outputs": []
    },
    {
      "cell_type": "code",
      "source": [
        "age = int(input(\"Enter your age\"))\n",
        "if age>=18:\n",
        "  print(\"You are eligible for voting\")\n",
        "elif age>=1:\n",
        "  print(\"Not eligible for voting\")\n",
        "else:\n",
        "  print(\"Please enter your right age\")"
      ],
      "metadata": {
        "id": "g2nE_LRMponc"
      },
      "execution_count": null,
      "outputs": []
    },
    {
      "cell_type": "code",
      "source": [
        "Gender = input(\"Enter Your Gender: \")\n",
        "Age = int(input(\"Enter your age: \"))\n",
        "if Gender == \"Male\":\n",
        "          print(\"Block A\")\n",
        "          if Age<=30:\n",
        "            print(\"age is less than or equal to 30 \")\n",
        "\n",
        "elif Gender == \"Female\":\n",
        "  print(\"Block b\")\n",
        "  if Age>30:\n",
        "    print(\"Age is greter than 30\")\n",
        "else:\n",
        "  print(\"Invalid\")"
      ],
      "metadata": {
        "id": "U4aatrtyr1oB"
      },
      "execution_count": null,
      "outputs": []
    },
    {
      "cell_type": "code",
      "source": [
        "#calculator\n",
        "num1= float(input(\"Enter the first number: \"))\n",
        "op = input(\"Enter the Operator(+,-,*,/): \")\n",
        "num2= float(input(\"Enter the second number: \"))\n",
        "if op=='+':\n",
        "  print(\"Result is: \",num1+num2)\n",
        "elif op=='-':\n",
        "  print(\"Result is: \",num1-num2)\n",
        "elif op=='*':\n",
        "  print(\"Result is: \",num1*num2)\n",
        "elif op=='/':\n",
        "  if num2!=0:\n",
        "    print(\"Result is: \",num1/num2)\n",
        "  else:\n",
        "    print(\"Error not divisible by zero\")\n",
        "else:\n",
        "  print(\"Wrong operator\")"
      ],
      "metadata": {
        "id": "fD9-fdex4uqT",
        "colab": {
          "base_uri": "https://localhost:8080/"
        },
        "outputId": "0ce467e6-62b6-4a20-fd06-e6feb0a6b337"
      },
      "execution_count": null,
      "outputs": [
        {
          "output_type": "stream",
          "name": "stdout",
          "text": [
            "Enter the first number: 1130\n",
            "Enter the Operator(+,-,*,/): -\n",
            "Enter the second number: 70\n",
            "Result is:  1060.0\n"
          ]
        }
      ]
    },
    {
      "cell_type": "code",
      "source": [
        "# Radius and perimeter\n",
        "import math\n",
        "Radius = int(input(\"Enter the Radius: \"))\n",
        "area = math.pi*(Radius*Radius)\n",
        "print(\"Area of circle is:\",area)\n",
        "Perimeter = 2*math.pi*Radius\n",
        "print(\"Perimeter of circle is :\",Perimeter)"
      ],
      "metadata": {
        "id": "uxACUqxD1fUz"
      },
      "execution_count": null,
      "outputs": []
    },
    {
      "cell_type": "code",
      "source": [
        "# Simple Interest\n",
        "p = int(input(\"Enter the p amount\"))\n",
        "r = int(input(\"enter the rate\"))\n",
        "t = int(input(\"enter time\"))\n",
        "T=t/3\n",
        "Simple_interest = p*r*T/100\n",
        "print(Simple_interest)"
      ],
      "metadata": {
        "id": "Gt_YKwuBlAkY",
        "colab": {
          "base_uri": "https://localhost:8080/"
        },
        "outputId": "8a4b60fb-4f82-4855-d088-eff0be14e2e4"
      },
      "execution_count": null,
      "outputs": [
        {
          "output_type": "stream",
          "name": "stdout",
          "text": [
            "Enter the p amount5000\n",
            "enter the rate5\n",
            "enter time7\n",
            "583.3333333333334\n"
          ]
        }
      ]
    },
    {
      "cell_type": "code",
      "source": [
        "P = float(input(\"Enter p: \"))\n",
        "R = float(input(\"Enter rate: \"))\n",
        "M = float(input(\"Enter the months: \"))\n",
        "D = int(input(\"Enter days: \"))\n",
        "T = M + D/30\n",
        "Simple_interest = P*R*T/100\n",
        "print(\"Simple interest is:\",Simple_interest)\n"
      ],
      "metadata": {
        "id": "Gt-QUjz3ptqa"
      },
      "execution_count": null,
      "outputs": []
    },
    {
      "cell_type": "code",
      "source": [
        "#simple interest\n",
        "p = int(input(\"Enter principle: \"))\n",
        "r = int(input(\"Enter rate: \"))\n",
        "m = input(\"Enter month: \")\n",
        "month = int(input(\"Enter the month: \"))\n",
        "y= int(input(\"Enter year: \"))\n",
        "d = int(input(\"Enter days: \"))\n",
        "\n",
        "if m == \"january\" or \"march\" or \"may\" or \"july\" or \"august\" or \"october\" or \"december\":\n",
        "    t = month+d/31\n",
        "elif m == \"april\" or \"june\" or \"september\" or\"november\":\n",
        "    t = month+ d/30\n",
        "elif m==\"february\":\n",
        "    if y%4==0 and y % 100!=0 or y % 400==0:\n",
        "      t= month+d/29\n",
        "    else:\n",
        "      t= month+ d/28\n",
        "else:\n",
        "  print(\"invalid\")\n",
        "\n",
        "si = p*r*t/100\n",
        "print(\"Simple Interest:\", si)\n",
        "print(m)\n",
        "print(\"Total amount: \",si+p)"
      ],
      "metadata": {
        "id": "UnZmppPJnnc5"
      },
      "execution_count": null,
      "outputs": []
    },
    {
      "cell_type": "code",
      "source": [
        "#leap year\n",
        "year = int(input(\"Enter year :\"))\n",
        "if year % 4 ==0 and year % 100 != 0 or year % 400 == 0:\n",
        "  print(\"leap year\")\n",
        "else:\n",
        "  print(\"not leap year\")"
      ],
      "metadata": {
        "id": "UH5gK5jRuuY0"
      },
      "execution_count": null,
      "outputs": []
    },
    {
      "cell_type": "code",
      "source": [
        "#traffic lights\n",
        "direction = input(\"Enter direction: \")\n",
        "if direction == \"north\":\n",
        "  print(\"(north in) is green\")\n",
        "  print(\"(east in) is red\")\n",
        "  print(\"(south in) is red\")\n",
        "  print(\"(west in) is red\")\n",
        "\n",
        "elif direction == \"south\":\n",
        "    print(\"(south in) is green\")\n",
        "    print(\"(west in) is red\")\n",
        "    print(\"(north in) is green\")\n",
        "    print(\"(east in) is green\")\n",
        "elif direction== \"west\":\n",
        "  print(\"(west in) is green\")\n",
        "  print(\"(north in) is red \")\n",
        "  print(\"(south in) is red\")\n",
        "  print(\"(east in )is red\")\n",
        "elif direction== \"east\":\n",
        "  print(\"(east in) is green\")\n",
        "  print(\"(south in) is red\")\n",
        "  print(\"(north in) is red\")\n",
        "  print(\"(west in) is red\")\n",
        "else:\n",
        "  print(\"invalid direction\")"
      ],
      "metadata": {
        "id": "e5a778MJi9dK"
      },
      "execution_count": null,
      "outputs": []
    },
    {
      "cell_type": "code",
      "source": [
        "#sum from 1 to 1000\n",
        "a = int(input(\"Enter fist term: \"))\n",
        "l = int(input(\"Enter last term: \"))\n",
        "n = int(input(\"Enter n: \"))\n",
        "print(\"the sum is:\",n/2*(a+l))"
      ],
      "metadata": {
        "id": "UNqjR2CWLDD_",
        "colab": {
          "base_uri": "https://localhost:8080/"
        },
        "outputId": "d589ab37-986e-44c6-9751-de52ecc3e502"
      },
      "execution_count": null,
      "outputs": [
        {
          "output_type": "stream",
          "name": "stdout",
          "text": [
            "Enter fist term: 1\n",
            "Enter last term: 1000\n",
            "Enter n: 1000\n",
            "the sum is: 500500.0\n"
          ]
        }
      ]
    },
    {
      "cell_type": "code",
      "source": [
        "#sum from 1 to 1000\n",
        "a1 = int(input(\"Enter first term: \"))\n",
        "a2 = int(input(\"Enter second term: \"))\n",
        "n = int(input(\"Enter n: \"))\n",
        "d = a2-a1\n",
        "print(\"The difference is: \",d)\n",
        "print(\"the sum is:\",n/2*(a1+a1+(n-1)*d))\n"
      ],
      "metadata": {
        "id": "eZ7cjenQOUAn"
      },
      "execution_count": null,
      "outputs": []
    },
    {
      "cell_type": "code",
      "source": [
        "for i in range(5):\n",
        "  print(i)"
      ],
      "metadata": {
        "id": "WwZDHGg8dIAB",
        "colab": {
          "base_uri": "https://localhost:8080/"
        },
        "outputId": "b56ea2e0-357c-4eed-d0c4-49a21a172819"
      },
      "execution_count": null,
      "outputs": [
        {
          "output_type": "stream",
          "name": "stdout",
          "text": [
            "0\n",
            "1\n",
            "2\n",
            "3\n",
            "4\n"
          ]
        }
      ]
    },
    {
      "cell_type": "code",
      "source": [
        "for i in range(1,5):\n",
        "  print(i)"
      ],
      "metadata": {
        "id": "E3sSYz_cecU9"
      },
      "execution_count": null,
      "outputs": []
    },
    {
      "cell_type": "code",
      "source": [
        "sum = 0\n",
        "for i in range(1,101):\n",
        "  sum+=i\n",
        "print(sum)"
      ],
      "metadata": {
        "id": "rE5IEUjih8eh"
      },
      "execution_count": null,
      "outputs": []
    },
    {
      "cell_type": "code",
      "source": [
        "a1 = int(input(\"Enter first term: \"))\n",
        "a2 = int(input(\"Enter second term: \"))\n",
        "d= a2-a1\n",
        "n = int(input(\"Enter n terms: \"))\n",
        "last_term = a1+(n-1)*d\n",
        "sum = 0\n",
        "for i in range(3,last_term,d):\n",
        "  sum+=i\n",
        "print(sum)"
      ],
      "metadata": {
        "id": "gN0KFw6Qc4hm"
      },
      "execution_count": null,
      "outputs": []
    },
    {
      "cell_type": "code",
      "source": [
        "sum=0\n",
        "for i in range(1,1002,5):\n",
        "  sum+=i\n",
        "print(sum)"
      ],
      "metadata": {
        "id": "QboNCR9WiKsV"
      },
      "execution_count": null,
      "outputs": []
    },
    {
      "cell_type": "code",
      "source": [
        "s =\"code\"\n",
        "for x in range(len(s)):\n",
        "  print(s[x])\n"
      ],
      "metadata": {
        "colab": {
          "base_uri": "https://localhost:8080/"
        },
        "id": "Ds_e-Nkvsm5I",
        "outputId": "3e77b09f-2cdc-4075-d8f6-d58f60fbd99b"
      },
      "execution_count": null,
      "outputs": [
        {
          "output_type": "stream",
          "name": "stdout",
          "text": [
            "c\n",
            "o\n",
            "d\n",
            "e\n"
          ]
        }
      ]
    },
    {
      "cell_type": "code",
      "source": [
        "# factorial\n",
        "fact = 1\n",
        "for i in range(1,6):\n",
        "  fact= fact*i\n",
        "print(fact)"
      ],
      "metadata": {
        "id": "YM1UT1AskcXM"
      },
      "execution_count": null,
      "outputs": []
    },
    {
      "cell_type": "code",
      "source": [
        "# fibonacci\n",
        "first_term =0\n",
        "second_term =1\n",
        "print(first_term)\n",
        "print(second_term)\n",
        "for i in range(2,11):\n",
        " third_term = first_term+second_term\n",
        " first_term = second_term\n",
        " second_term = third_term\n",
        " print(third_term)"
      ],
      "metadata": {
        "id": "IDF9Nmz5lCqA"
      },
      "execution_count": null,
      "outputs": []
    },
    {
      "cell_type": "code",
      "source": [
        "for i in range(9,5,-1):\n",
        "  print(i)"
      ],
      "metadata": {
        "id": "fXoMaYXHpMPq"
      },
      "execution_count": null,
      "outputs": []
    },
    {
      "cell_type": "code",
      "source": [
        "fact=1\n",
        "sum=0\n",
        "for i in range(1,3):\n",
        "  fact=fact*i\n",
        "  sum+=fact\n",
        "print(sum)"
      ],
      "metadata": {
        "colab": {
          "base_uri": "https://localhost:8080/"
        },
        "id": "YbPEtMPiqPWr",
        "outputId": "628ddcca-b92c-4668-fd2f-af879d78c66f"
      },
      "execution_count": null,
      "outputs": [
        {
          "output_type": "stream",
          "name": "stdout",
          "text": [
            "3\n"
          ]
        }
      ]
    },
    {
      "cell_type": "code",
      "source": [
        "num=12\n",
        "sum=0\n",
        "while num>0:\n",
        "  digit=num%10\n",
        "  sum=sum+digit\n",
        "  num=int(num/10)\n",
        "print(sum)"
      ],
      "metadata": {
        "id": "xUuOErZxxgUX",
        "colab": {
          "base_uri": "https://localhost:8080/"
        },
        "outputId": "2ea18450-d5f0-45db-b061-06f1d8137dda"
      },
      "execution_count": null,
      "outputs": [
        {
          "output_type": "stream",
          "name": "stdout",
          "text": [
            "3\n"
          ]
        }
      ]
    },
    {
      "cell_type": "code",
      "source": [
        "num=int(input(\"Enter the numbers: \"))\n",
        "sum=0\n",
        "while num>0:\n",
        "  digit=num%10\n",
        "  sum=sum+digit\n",
        "  num=num//10\n",
        "print(sum)"
      ],
      "metadata": {
        "id": "Wfir6b8P4kdl",
        "colab": {
          "base_uri": "https://localhost:8080/"
        },
        "outputId": "858089cc-0b39-490c-f1f0-85b9c9c90b79"
      },
      "execution_count": null,
      "outputs": [
        {
          "output_type": "stream",
          "name": "stdout",
          "text": [
            "Enter the numbers: 134\n",
            "8\n"
          ]
        }
      ]
    },
    {
      "cell_type": "code",
      "source": [
        "num= 897\n",
        "rev = 0\n",
        "while num>0:\n",
        "  digit=num%10\n",
        "  rev = rev*10+digit\n",
        "  num = int(num/10)\n",
        "print(rev)"
      ],
      "metadata": {
        "colab": {
          "base_uri": "https://localhost:8080/"
        },
        "id": "6sCJPTR12G3b",
        "outputId": "b93f2356-650c-47b9-cc77-b20f99173ac0"
      },
      "execution_count": 1,
      "outputs": [
        {
          "output_type": "stream",
          "name": "stdout",
          "text": [
            "798\n"
          ]
        }
      ]
    },
    {
      "cell_type": "code",
      "source": [
        "sum=0\n",
        "for i in range(1,101):\n",
        "  square =i*i\n",
        "  sum=sum+square\n",
        "  # print(square)\n",
        "print(sum)"
      ],
      "metadata": {
        "colab": {
          "base_uri": "https://localhost:8080/"
        },
        "id": "Nw7q2Bfn91Mz",
        "outputId": "7af6c463-1b20-44f1-da07-3a0f571ce336"
      },
      "execution_count": null,
      "outputs": [
        {
          "output_type": "stream",
          "name": "stdout",
          "text": [
            "338350\n"
          ]
        }
      ]
    },
    {
      "cell_type": "code",
      "source": [
        "num= int(input(\"Enter the number\"))\n",
        "for i in range(2,num):\n",
        "  for j in range(2,i):\n",
        "    if i%j==0:\n",
        "      break\n",
        "  else:\n",
        "   print(i)\n"
      ],
      "metadata": {
        "id": "ps1wf9ax-biC"
      },
      "execution_count": null,
      "outputs": []
    },
    {
      "cell_type": "code",
      "source": [
        "num=565\n",
        "temp= num\n",
        "rev=0\n",
        "while num>0:\n",
        " digit = num%10\n",
        " rev=rev*10+digit\n",
        " num=int(num/10)\n",
        "print(rev)\n",
        "# print(num)\n",
        "if temp==rev:\n",
        "  print(\"palindrome\")\n",
        "else:\n",
        "  print(\"not palindrome\")"
      ],
      "metadata": {
        "id": "Mage9z4QJTuw"
      },
      "execution_count": null,
      "outputs": []
    },
    {
      "cell_type": "code",
      "source": [
        "def num(a):\n",
        "  print(a)\n",
        "num(\"hello world\")"
      ],
      "metadata": {
        "colab": {
          "base_uri": "https://localhost:8080/"
        },
        "id": "ac2256xIjgFI",
        "outputId": "3ddfaec8-240f-47c3-ed4b-761122ddac15"
      },
      "execution_count": null,
      "outputs": [
        {
          "output_type": "stream",
          "name": "stdout",
          "text": [
            "hello world\n"
          ]
        }
      ]
    },
    {
      "cell_type": "code",
      "source": [
        "def sum(a,b):\n",
        "  return a+b\n",
        "sum(10,20)\n"
      ],
      "metadata": {
        "id": "bcj7y04Ekz53",
        "colab": {
          "base_uri": "https://localhost:8080/"
        },
        "outputId": "fc6e11a2-ab96-4446-d3ea-c1db737bfe26"
      },
      "execution_count": null,
      "outputs": [
        {
          "output_type": "execute_result",
          "data": {
            "text/plain": [
              "30"
            ]
          },
          "metadata": {},
          "execution_count": 25
        }
      ]
    },
    {
      "cell_type": "code",
      "source": [
        "def add(n):\n",
        "  sum=0\n",
        "  for i in range(1,n+1):\n",
        "   sum+=i\n",
        "  print(sum)\n",
        "add(11)"
      ],
      "metadata": {
        "id": "j7ChYr90lIzQ",
        "colab": {
          "base_uri": "https://localhost:8080/"
        },
        "outputId": "edbd5c5b-ee68-4cb6-87e2-6bb5c6f9c60f"
      },
      "execution_count": null,
      "outputs": [
        {
          "output_type": "stream",
          "name": "stdout",
          "text": [
            "66\n"
          ]
        }
      ]
    },
    {
      "cell_type": "code",
      "source": [
        "def num(a):\n",
        "  if a%2==0:\n",
        "    print(\"even\")\n",
        "  else:\n",
        "    print(\"odd\")\n",
        "num(4)"
      ],
      "metadata": {
        "colab": {
          "base_uri": "https://localhost:8080/"
        },
        "id": "WPVzRty0ohFY",
        "outputId": "6a670212-9b1b-4f23-8be1-f2a5bf1af715"
      },
      "execution_count": null,
      "outputs": [
        {
          "output_type": "stream",
          "name": "stdout",
          "text": [
            "even\n"
          ]
        }
      ]
    },
    {
      "cell_type": "code",
      "source": [
        "def oddeven():\n",
        "  m= int(input(\"Enter the number: \"))\n",
        "  if m%2==0:\n",
        "    print(\"even\")\n",
        "  else:\n",
        "    print(\"odd\")\n",
        "oddeven()"
      ],
      "metadata": {
        "id": "9avVC0hp7PZ7"
      },
      "execution_count": null,
      "outputs": []
    },
    {
      "cell_type": "code",
      "source": [
        "def fab(n):\n",
        "  first_term =0\n",
        "  second_term=1\n",
        "  for i in range(2,n+1):\n",
        "     third_term =  first_term+second_term\n",
        "     first_term= second_term\n",
        "     second_term = third_term\n",
        "     print(third_term)\n",
        "fab(10)\n"
      ],
      "metadata": {
        "id": "6jegRQDrppmL"
      },
      "execution_count": null,
      "outputs": []
    },
    {
      "cell_type": "code",
      "source": [
        "def fact(n):\n",
        "  fact=1\n",
        "  for i in range(1,n+1):\n",
        "    fact= fact*i\n",
        "  print(fact)\n",
        "fact(5)"
      ],
      "metadata": {
        "id": "6olTveVesiZQ"
      },
      "execution_count": null,
      "outputs": []
    },
    {
      "cell_type": "code",
      "source": [
        "def prime(a):\n",
        "  for i in range(2,a):\n",
        "    for j in range(2,i):\n",
        "      if i%j==0:\n",
        "       break\n",
        "    else:\n",
        "      print(i)\n",
        "prime(20)\n"
      ],
      "metadata": {
        "id": "oxdYzK6ztCow"
      },
      "execution_count": null,
      "outputs": []
    },
    {
      "cell_type": "code",
      "source": [
        "def lines():\n",
        "  n = int(input(\"no. of lines\"))\n",
        "  for i in range(1,n+1):\n",
        "    for j in range(i):\n",
        "      print(\"*\",end=\"\")\n",
        "    print()\n",
        "lines()"
      ],
      "metadata": {
        "id": "p-xO-0jO1OOB"
      },
      "execution_count": null,
      "outputs": []
    },
    {
      "cell_type": "code",
      "source": [
        "def multi(a,b):\n",
        "  c = a*b\n",
        "  return c\n",
        "d = multi(10,7)\n",
        "print(d)"
      ],
      "metadata": {
        "id": "esfrRawKY0hl"
      },
      "execution_count": null,
      "outputs": []
    },
    {
      "cell_type": "code",
      "source": [
        "def fact():\n",
        "  fact = 1\n",
        "  total = 0\n",
        "  for i in range(1,11):\n",
        "    fact = fact*i\n",
        "    total+=fact\n",
        "    print(total)\n",
        "fact()"
      ],
      "metadata": {
        "id": "TKBVmXK1amyx"
      },
      "execution_count": null,
      "outputs": []
    },
    {
      "cell_type": "code",
      "source": [
        "def sumfact():\n",
        " sum=0\n",
        " for i in range(1,22,2):\n",
        "  fact=1\n",
        "  for j in range(1,i+1):\n",
        "    fact=fact*j\n",
        "  sum=+fact\n",
        "  print(sum)\n",
        "sumfact()"
      ],
      "metadata": {
        "id": "n2BWtv1c5-jf"
      },
      "execution_count": null,
      "outputs": []
    },
    {
      "cell_type": "code",
      "source": [
        "def sumfact(n):\n",
        "  sum=0\n",
        "  fact=1\n",
        "  for i in range(1,n):\n",
        "    fact=fact*i\n",
        "    if i%2!=0:\n",
        "     sum=sum+fact\n",
        "  print(sum)\n",
        "sumfact(7)"
      ],
      "metadata": {
        "colab": {
          "base_uri": "https://localhost:8080/"
        },
        "id": "-BfG0v0QAswM",
        "outputId": "83708e89-e166-46e1-fc3c-64ea00856140"
      },
      "execution_count": 9,
      "outputs": [
        {
          "output_type": "stream",
          "name": "stdout",
          "text": [
            "127\n"
          ]
        }
      ]
    },
    {
      "cell_type": "code",
      "source": [
        "def add(*args):\n",
        "  return sum(args)\n",
        "add(6,2,2)"
      ],
      "metadata": {
        "colab": {
          "base_uri": "https://localhost:8080/"
        },
        "id": "N-Zbyyo3DN_q",
        "outputId": "5c03f0cb-e867-4632-ea06-159e71e2e30b"
      },
      "execution_count": null,
      "outputs": [
        {
          "output_type": "execute_result",
          "data": {
            "text/plain": [
              "10"
            ]
          },
          "metadata": {},
          "execution_count": 18
        }
      ]
    },
    {
      "cell_type": "code",
      "source": [
        "def add(*args):\n",
        "  sum=0\n",
        "  for i in args:\n",
        "    sum=sum+i\n",
        "  return sum\n",
        "add(1,4,6)"
      ],
      "metadata": {
        "colab": {
          "base_uri": "https://localhost:8080/"
        },
        "id": "qHUZ0bMsElRn",
        "outputId": "dc81f6f3-1738-4aca-e840-7c0daea9e49e"
      },
      "execution_count": null,
      "outputs": [
        {
          "output_type": "execute_result",
          "data": {
            "text/plain": [
              "11"
            ]
          },
          "metadata": {},
          "execution_count": 24
        }
      ]
    },
    {
      "cell_type": "code",
      "source": [
        "def info(**bio):\n",
        "  for key,value in bio.items():\n",
        "    print({value})\n",
        "info(name='Komal',age=21)\n"
      ],
      "metadata": {
        "colab": {
          "base_uri": "https://localhost:8080/"
        },
        "id": "ByqXUe9qFmKS",
        "outputId": "43b0da37-e985-4193-86a5-92d1a5e65642"
      },
      "execution_count": null,
      "outputs": [
        {
          "output_type": "stream",
          "name": "stdout",
          "text": [
            "{'Komal'}\n",
            "{21}\n"
          ]
        }
      ]
    },
    {
      "cell_type": "code",
      "source": [
        "a= lambda x,y:x+y\n",
        "# print(a)\n",
        "a(1,2)"
      ],
      "metadata": {
        "colab": {
          "base_uri": "https://localhost:8080/"
        },
        "id": "y5QlONUiHmeN",
        "outputId": "3e91e853-37b1-4f27-9099-d9d58de020c1"
      },
      "execution_count": null,
      "outputs": [
        {
          "output_type": "execute_result",
          "data": {
            "text/plain": [
              "3"
            ]
          },
          "metadata": {},
          "execution_count": 25
        }
      ]
    },
    {
      "cell_type": "code",
      "source": [
        "a=lambda  x,y,z:x+y+z\n",
        "a(1,7,9)"
      ],
      "metadata": {
        "colab": {
          "base_uri": "https://localhost:8080/"
        },
        "id": "wFZfKNaJ5and",
        "outputId": "2c872522-5853-45ff-ba6c-4cd12f3e1e21"
      },
      "execution_count": null,
      "outputs": [
        {
          "output_type": "execute_result",
          "data": {
            "text/plain": [
              "17"
            ]
          },
          "metadata": {},
          "execution_count": 66
        }
      ]
    },
    {
      "cell_type": "code",
      "source": [
        "#2!+4!---\n",
        "#1!+5!+9!+13!=?\n",
        "#2!+6!+10!+----"
      ],
      "metadata": {
        "id": "ebWwRFpAKnu9"
      },
      "execution_count": null,
      "outputs": []
    },
    {
      "cell_type": "code",
      "source": [
        "def evenfact(n):\n",
        "  sum=0\n",
        "  fact=1\n",
        "  for i in range(1,n):\n",
        "    fact=fact*i\n",
        "    if i%2==0:\n",
        "      sum=sum+fact\n",
        "  print(sum)\n",
        "evenfact(5)\n"
      ],
      "metadata": {
        "colab": {
          "base_uri": "https://localhost:8080/"
        },
        "id": "YWIzOJ-qQRKe",
        "outputId": "802724f5-1376-4eea-85c0-ca00831a73dc"
      },
      "execution_count": null,
      "outputs": [
        {
          "output_type": "stream",
          "name": "stdout",
          "text": [
            "26\n"
          ]
        }
      ]
    },
    {
      "cell_type": "code",
      "source": [
        "def fact():\n",
        "  sum=0\n",
        "  fact=1\n",
        "  for i in range(1,14,2):\n",
        "    fact=fact*i\n",
        "    if i%2!=0:\n",
        "      sum=sum+fact\n",
        "  print(sum)\n",
        "fact()"
      ],
      "metadata": {
        "colab": {
          "base_uri": "https://localhost:8080/"
        },
        "id": "jW4ACG10RDhE",
        "outputId": "216d38f0-3574-447f-9a8f-fae56f13b9fe"
      },
      "execution_count": null,
      "outputs": [
        {
          "output_type": "stream",
          "name": "stdout",
          "text": [
            "146599\n"
          ]
        }
      ]
    },
    {
      "cell_type": "code",
      "source": [
        "a= 289\n",
        "b = 157\n",
        "if a>b:\n",
        "  small = b\n",
        "else:\n",
        "  small = a\n",
        "for i in range(1,small+1):\n",
        "  if a%i==0 and b%i==0:\n",
        "      HCF=i\n",
        "print(HCF)"
      ],
      "metadata": {
        "colab": {
          "base_uri": "https://localhost:8080/"
        },
        "id": "kWdKP2G4oxHB",
        "outputId": "e1ce7420-bd01-4260-dd56-fcea29368a8b"
      },
      "execution_count": null,
      "outputs": [
        {
          "output_type": "stream",
          "name": "stdout",
          "text": [
            "1\n"
          ]
        }
      ]
    },
    {
      "cell_type": "code",
      "source": [
        "#factor of 20\n",
        "a=20\n",
        "for i in range(1,a+1):\n",
        "  if a%i==0:\n",
        "    print(i)\n"
      ],
      "metadata": {
        "id": "_KJgUvN9leU0",
        "colab": {
          "base_uri": "https://localhost:8080/"
        },
        "outputId": "579103b7-53ee-4c16-b42c-388f1ee6ccae"
      },
      "execution_count": null,
      "outputs": [
        {
          "output_type": "stream",
          "name": "stdout",
          "text": [
            "1\n",
            "2\n",
            "4\n",
            "5\n",
            "10\n",
            "20\n"
          ]
        }
      ]
    },
    {
      "cell_type": "code",
      "source": [
        "a=289\n",
        "b=187\n",
        "if a>b:\n",
        "  small = b\n",
        "else:\n",
        "  small = a\n",
        "for i in range(1,small+1):\n",
        "  if a%i==0 and b%i==0:\n",
        "      hcf=i\n",
        "lcm = a*b/hcf\n",
        "print(lcm)"
      ],
      "metadata": {
        "colab": {
          "base_uri": "https://localhost:8080/"
        },
        "id": "1H_pTZw-f-Zg",
        "outputId": "577d335e-563b-4c85-f973-a1dc12cb3140"
      },
      "execution_count": null,
      "outputs": [
        {
          "output_type": "stream",
          "name": "stdout",
          "text": [
            "3179.0\n"
          ]
        }
      ]
    },
    {
      "cell_type": "code",
      "source": [
        "num1 = 50\n",
        "num2 = 10\n",
        "if num1>num2:\n",
        "  greatest = num1\n",
        "else:\n",
        "  greatest = num2\n",
        "for i in range(greatest,num1*num2+1):\n",
        "  if i%num1==0 and i%num2==0:\n",
        "    lcm = i\n",
        "  break\n",
        "print(i)\n"
      ],
      "metadata": {
        "colab": {
          "base_uri": "https://localhost:8080/"
        },
        "id": "oJvufhaVrcsI",
        "outputId": "ba99e3a7-8e47-4d73-db85-af83941d48b0"
      },
      "execution_count": null,
      "outputs": [
        {
          "output_type": "stream",
          "name": "stdout",
          "text": [
            "50\n"
          ]
        }
      ]
    },
    {
      "cell_type": "code",
      "source": [
        "def fact(n):\n",
        "  if n==0 or n==1:\n",
        "    return 1\n",
        "  else:\n",
        "    return n*fact(n-1)\n",
        "fact(8)"
      ],
      "metadata": {
        "id": "AVcN2oG2tZeP",
        "colab": {
          "base_uri": "https://localhost:8080/"
        },
        "outputId": "6b63d758-008f-4c3f-c796-a5182b384566"
      },
      "execution_count": null,
      "outputs": [
        {
          "output_type": "execute_result",
          "data": {
            "text/plain": [
              "40320"
            ]
          },
          "metadata": {},
          "execution_count": 28
        }
      ]
    },
    {
      "cell_type": "code",
      "source": [
        "def fab(n):\n",
        "  if n<=0:\n",
        "    return 0\n",
        "  elif n==1:\n",
        "    return 1\n",
        "  else:\n",
        "    return fab(n-1)+fab(n-2)\n",
        "for i in range(11):\n",
        "    print(fab(i))"
      ],
      "metadata": {
        "id": "DYT7Wp8D6zYH",
        "colab": {
          "base_uri": "https://localhost:8080/"
        },
        "outputId": "1ca1b58c-5f2c-4d93-c138-d7b4dfc1ab8d"
      },
      "execution_count": null,
      "outputs": [
        {
          "output_type": "stream",
          "name": "stdout",
          "text": [
            "0\n",
            "1\n",
            "1\n",
            "2\n",
            "3\n",
            "5\n",
            "8\n",
            "13\n",
            "21\n",
            "34\n",
            "55\n"
          ]
        }
      ]
    },
    {
      "cell_type": "code",
      "source": [
        "name=\"komal\"\n",
        "for i in name:\n",
        "  print(i)"
      ],
      "metadata": {
        "id": "CNIR4SfO_vKc",
        "colab": {
          "base_uri": "https://localhost:8080/"
        },
        "outputId": "855bc1cf-a5cc-4f06-8d37-285d95aa079b"
      },
      "execution_count": null,
      "outputs": [
        {
          "output_type": "stream",
          "name": "stdout",
          "text": [
            "k\n",
            "o\n",
            "m\n",
            "a\n",
            "l\n"
          ]
        }
      ]
    },
    {
      "cell_type": "code",
      "source": [
        "name=\"komal\"\n",
        "if \"m\" in name:\n",
        "  print(\"available\")\n",
        "else:\n",
        "  print(\"not available\")"
      ],
      "metadata": {
        "colab": {
          "base_uri": "https://localhost:8080/"
        },
        "id": "-6KQlXMl_-OQ",
        "outputId": "e5221528-5d28-4d2d-c010-3ee71acfb729"
      },
      "execution_count": null,
      "outputs": [
        {
          "output_type": "stream",
          "name": "stdout",
          "text": [
            "available\n"
          ]
        }
      ]
    },
    {
      "cell_type": "code",
      "source": [
        "name=\"komal\"\n",
        "print(name[0])"
      ],
      "metadata": {
        "colab": {
          "base_uri": "https://localhost:8080/"
        },
        "id": "cZFK5URKAisV",
        "outputId": "25345e31-aa3c-4152-a698-14336935423d"
      },
      "execution_count": null,
      "outputs": [
        {
          "output_type": "stream",
          "name": "stdout",
          "text": [
            "k\n"
          ]
        }
      ]
    },
    {
      "cell_type": "code",
      "source": [
        "name=\"     komal      \"\n",
        "name.strip()"
      ],
      "metadata": {
        "colab": {
          "base_uri": "https://localhost:8080/",
          "height": 35
        },
        "id": "jOijfNABA1zk",
        "outputId": "933ea27d-5f93-43f9-e349-d2c7988301c6"
      },
      "execution_count": null,
      "outputs": [
        {
          "output_type": "execute_result",
          "data": {
            "text/plain": [
              "'komal'"
            ],
            "application/vnd.google.colaboratory.intrinsic+json": {
              "type": "string"
            }
          },
          "metadata": {},
          "execution_count": 61
        }
      ]
    },
    {
      "cell_type": "code",
      "source": [
        "name=\"ko mal\"\n",
        "name.replace(\"m\",\"n\")\n",
        "name.replace(\" \",\"\")"
      ],
      "metadata": {
        "colab": {
          "base_uri": "https://localhost:8080/",
          "height": 35
        },
        "id": "xuz_dsNrBatQ",
        "outputId": "bda28332-1b22-4b25-a37f-94385d7f2574"
      },
      "execution_count": null,
      "outputs": [
        {
          "output_type": "execute_result",
          "data": {
            "text/plain": [
              "'komal'"
            ],
            "application/vnd.google.colaboratory.intrinsic+json": {
              "type": "string"
            }
          },
          "metadata": {},
          "execution_count": 2
        }
      ]
    },
    {
      "cell_type": "code",
      "source": [
        "name=\"komal\"\n",
        "name.startswith(\"k\")\n",
        "name.endswith(\"m\")\n",
        "name[0:3]"
      ],
      "metadata": {
        "colab": {
          "base_uri": "https://localhost:8080/",
          "height": 35
        },
        "id": "UnE7JIFTCJJV",
        "outputId": "7f18b153-ea94-4728-d083-084925231764"
      },
      "execution_count": null,
      "outputs": [
        {
          "output_type": "execute_result",
          "data": {
            "text/plain": [
              "'kom'"
            ],
            "application/vnd.google.colaboratory.intrinsic+json": {
              "type": "string"
            }
          },
          "metadata": {},
          "execution_count": 1
        }
      ]
    },
    {
      "cell_type": "code",
      "source": [
        "name=\"komal\"\n",
        "print(name[-3:])"
      ],
      "metadata": {
        "colab": {
          "base_uri": "https://localhost:8080/"
        },
        "id": "czyL4VX4JCaB",
        "outputId": "fab9d4a4-89c2-491f-9515-bf408220a96a"
      },
      "execution_count": null,
      "outputs": [
        {
          "output_type": "stream",
          "name": "stdout",
          "text": [
            "mal\n"
          ]
        }
      ]
    },
    {
      "cell_type": "code",
      "source": [
        "name=12321\n",
        "name2=str(name)\n",
        "rev=name2[::-1]\n",
        "if name2==rev:\n",
        "  num=name/5\n",
        "  print(num)\n",
        "  print(\"palindrome\")\n",
        "else:\n",
        "  print(\"not palindrome\")"
      ],
      "metadata": {
        "colab": {
          "base_uri": "https://localhost:8080/"
        },
        "id": "WrXdqS4_KBHS",
        "outputId": "55aa7e12-11e7-4388-a18e-f25f2243bfba"
      },
      "execution_count": null,
      "outputs": [
        {
          "output_type": "stream",
          "name": "stdout",
          "text": [
            "2464.2\n",
            "palindrome\n"
          ]
        }
      ]
    },
    {
      "cell_type": "code",
      "source": [
        "name=\"komal\"\n",
        "rev =\"\"\n",
        "for char in name:\n",
        "  rev = char+rev\n",
        "print(rev)\n",
        "if name==rev:\n",
        "  print(\"Palindrome\")\n",
        "else:\n",
        "  print(\"not palindrome\")"
      ],
      "metadata": {
        "colab": {
          "base_uri": "https://localhost:8080/"
        },
        "id": "94RMcPbblNKB",
        "outputId": "fc5446a9-1319-44eb-c191-cf33ee7db1c6"
      },
      "execution_count": null,
      "outputs": [
        {
          "output_type": "stream",
          "name": "stdout",
          "text": [
            "lamok\n",
            "not palindrome\n"
          ]
        }
      ]
    },
    {
      "cell_type": "code",
      "source": [
        "name=\"pqpq\"\n",
        "same_letter=\"p\"\n",
        "count=0\n",
        "for char in name:\n",
        "  if char==same_letter:\n",
        "    count=count+1\n",
        "print(count)"
      ],
      "metadata": {
        "colab": {
          "base_uri": "https://localhost:8080/"
        },
        "id": "x3CAVDa5mtbo",
        "outputId": "a13144a2-82d3-416b-b65b-e97233bbcb79"
      },
      "execution_count": null,
      "outputs": [
        {
          "output_type": "stream",
          "name": "stdout",
          "text": [
            "2\n"
          ]
        }
      ]
    },
    {
      "cell_type": "code",
      "source": [
        "sum=0\n",
        "for i in range(1,101):\n",
        "  if i%2!=0 and i%3!=0 and i%5!=0:\n",
        "    sum=sum+i\n",
        "print(sum)"
      ],
      "metadata": {
        "colab": {
          "base_uri": "https://localhost:8080/"
        },
        "id": "7UDIn9ov4_Nf",
        "outputId": "d4181c29-8b4d-4722-d9e5-669b3d5cac2e"
      },
      "execution_count": null,
      "outputs": [
        {
          "output_type": "stream",
          "name": "stdout",
          "text": [
            "1268\n"
          ]
        }
      ]
    },
    {
      "cell_type": "code",
      "source": [
        "sum=0\n",
        "total=0\n",
        "for i in range(1,101):\n",
        "  total=total+i\n",
        "  if i%2==0 or i%3==0 or i%5==0:\n",
        "    sum=sum+i\n",
        "    result=total-sum\n",
        "print(result)"
      ],
      "metadata": {
        "colab": {
          "base_uri": "https://localhost:8080/"
        },
        "id": "tRysrxTP7St7",
        "outputId": "d4c6df28-4e9c-48b2-90c7-5b63f39cc2ef"
      },
      "execution_count": null,
      "outputs": [
        {
          "output_type": "stream",
          "name": "stdout",
          "text": [
            "1268\n"
          ]
        }
      ]
    },
    {
      "cell_type": "code",
      "source": [
        "a=[1,2,3]#list\n",
        "a.append(9)#add element at last\n",
        "print(a[0])#index\n",
        "print(a)#list\n",
        "a[1]=10\n",
        "\n",
        "print(a)\n",
        "print(a.index(3))\n"
      ],
      "metadata": {
        "id": "56vxY_ZKDqMm"
      },
      "execution_count": null,
      "outputs": []
    },
    {
      "cell_type": "code",
      "source": [
        "a=[5,6,7,8]\n",
        "b=a[:3]\n",
        "c=a[1:]\n",
        "print(b)\n",
        "print(c)"
      ],
      "metadata": {
        "id": "zDZswn-_FgT7"
      },
      "execution_count": null,
      "outputs": []
    },
    {
      "cell_type": "code",
      "source": [
        "a=[]\n",
        "num=int(input(\"enter the number: \"))\n",
        "for i in range(num):\n",
        "  item=(input(f\"enteryour item number{i+1}: \"))\n",
        "  a.append(item)\n",
        "print(a)"
      ],
      "metadata": {
        "colab": {
          "base_uri": "https://localhost:8080/"
        },
        "id": "wXIvHtmjIwLg",
        "outputId": "514745ba-1773-4ca8-f59f-861275b05b42"
      },
      "execution_count": null,
      "outputs": [
        {
          "output_type": "stream",
          "name": "stdout",
          "text": [
            "enter the number: 2\n",
            "enteryour item number1: 1\n",
            "enteryour item number2: 4\n",
            "['1', '4']\n"
          ]
        }
      ]
    },
    {
      "cell_type": "code",
      "source": [
        "items=[]\n",
        "amounts=[]\n",
        "discounts=[]\n",
        "total=0\n",
        "total_discount_prize=0\n",
        "for i in range(2):\n",
        "  item=input(f\"enter item name {i+1} \")\n",
        "  amount=int(input(f\"enter the price of item no{i+1} \"))\n",
        "  discount=int(input(f\"enter discount {i+1} item \"))\n",
        "  items.append(item)\n",
        "  amounts.append(amount)\n",
        "  discounts.append(discount)\n",
        "  dis=amount*discount/100\n",
        "  total_discount_prize=total_discount_prize+dis\n",
        "  discount_=total*15/100\n",
        "  total_discount=total-discount_\n",
        "  total=total+amount\n",
        "print(items)\n",
        "print(amounts)\n",
        "print(total)\n",
        "print(total_discount)\n",
        "print(total_discount_prize)\n",
        "print(discounts)"
      ],
      "metadata": {
        "id": "uR2mbotmMeAp"
      },
      "execution_count": null,
      "outputs": []
    },
    {
      "cell_type": "code",
      "source": [
        "flowers=[]\n",
        "prices=[]\n",
        "discounts=[]\n",
        "total_discount_per_flower=0\n",
        "total_amount=0\n",
        "\n",
        "for i in range(2):\n",
        "  flower=input(\"Enter flower name \")\n",
        "  price=int(input(f\"Enter price of {i+1} item \"))\n",
        "  discount=int(input(f\"Enter the percentage of dicount per flower\"))\n",
        "\n",
        "  flowers.append(flower)\n",
        "  prices.append(price)\n",
        "  discounts.append(discount)\n",
        "  dis=price*discount/100\n",
        "  total_discount_per_flower=total_discount_per_flower+dis\n",
        "  total_amount=total_amount+price\n",
        "  payable_amount=total_amount-total_discount_per_flower\n",
        "  discount_total=payable_amount*15/100\n",
        "  total_prize_of_flowers=payable_amount-discount_total\n",
        "print(flowers)\n",
        "print(prices)\n",
        "print(discounts)\n",
        "print(payable_amount)\n",
        "print(total_prize_of_flowers)\n",
        "cpn=input(\"enter code\")\n",
        "if cpn==\"cf41\":\n",
        "     cpn_discount=total_prize_of_flowers*5/100\n",
        "     total_payable_amount=total_prize_of_flowers-cpn_discount\n",
        "print(total_payable_amount)"
      ],
      "metadata": {
        "colab": {
          "base_uri": "https://localhost:8080/"
        },
        "id": "Aewsu_cLAqSJ",
        "outputId": "4b4a39b4-219c-4857-ac53-3f42993c2442"
      },
      "execution_count": null,
      "outputs": [
        {
          "output_type": "stream",
          "name": "stdout",
          "text": [
            "Enter flower namerose\n",
            "Enter price of 1 item 10000\n",
            "Enter the percentage of dicount per flower12\n",
            "Enter flower namesun\n",
            "Enter price of 2 item 1000\n",
            "Enter the percentage of dicount per flower12\n",
            "['rose', 'sun']\n",
            "[10000, 1000]\n",
            "[12, 12]\n",
            "9680.0\n",
            "8228.0\n",
            "enter codecf41\n",
            "7816.6\n"
          ]
        }
      ]
    },
    {
      "cell_type": "code",
      "source": [
        "a=[1,2,3,3,4,5]\n",
        "print(a[0:3])\n",
        "print(a[:-3])\n",
        "for i in a:\n",
        "  print(i)"
      ],
      "metadata": {
        "id": "eCRoJdOGeDhM"
      },
      "execution_count": null,
      "outputs": []
    },
    {
      "cell_type": "code",
      "source": [
        "cust_name=['Komal','Tanvi','Isha','Nikhil','Surya','Sukh','Aryan','Rahul','Shruti','Harsh','Arpit','Ishit','Aadi','Akshita','Harshita']\n",
        "product=['TV','AC','Laptop','Mobile','Fridge','Fan','Speaker','Microwave','Clock','Headphone','Iron','Juicer','Lamp','Heater','Blender']\n",
        "price=[2000,5000,8000,70000,9000,10000,11000,60000,20000,80000,70000,60000,80000,60000,80000]\n",
        "state=['HP','UP','Rajastan','Punjab','MP','J&k','Gujrat','HP','Haryana','MP','Assam','Arunachal','HP','UTT','Maharastra']\n",
        "sum=0\n",
        "for i in price:\n",
        "  sum=sum+i\n",
        "print(sum)"
      ],
      "metadata": {
        "id": "Ajx1ndWalPSB",
        "colab": {
          "base_uri": "https://localhost:8080/"
        },
        "outputId": "83791f70-c9c3-44e7-e9f4-3e1f714a0207"
      },
      "execution_count": null,
      "outputs": [
        {
          "output_type": "stream",
          "name": "stdout",
          "text": [
            "625000\n"
          ]
        }
      ]
    },
    {
      "cell_type": "code",
      "source": [
        "cust_name=['Komal','Arpit','Tanvi','Isha','Nikhil','Surya','Sukh','Aryan','Rahul','Shruti','Harsh','Ishit','Aadi','Akshita','Harshita']\n",
        "product=['TV','AC','Laptop','Mobile','Fridge','Fan','Speaker','Microwave','Fan','Headphone','Iron','Juicer','Fan','Heater','Blender']\n",
        "price=[2000,5000,8000,70000,9000,10000,11000,60000,20000,80000,70000,60000,80000,60000,80000]\n",
        "state=['HP','UP','Rajastan','Punjab','MP','J&k','Gujrat','HP','Haryana','MP','Assam','Arunachal','HP','UTT','Maharastra']\n",
        "unique_state=[]\n",
        "sales=[]\n",
        "for i in state:\n",
        "  if i not in unique_state:\n",
        "    unique_state.append(i)\n",
        "    sales.append(0)\n",
        "print(unique_state)\n",
        "for j in range(len(state)):\n",
        "      index=unique_state.index(state[j])\n",
        "      sales[index]=sales[index]+price[j]\n",
        "print(sales)\n",
        "unique_product=[]\n",
        "sales_product=[]\n",
        "for i in product:\n",
        "  if i not in unique_product:\n",
        "    unique_product.append(i)\n",
        "    sales_product.append(0)\n",
        "print(unique_product)\n",
        "for j in range(len(product)):\n",
        "  index=unique_product.index(product[j])\n",
        "  sales_product[index]=sales_product[index]+price[j]\n",
        "print(sales_product)"
      ],
      "metadata": {
        "id": "RFAQnv7vvtaA"
      },
      "execution_count": null,
      "outputs": []
    },
    {
      "cell_type": "code",
      "source": [
        "name=['komal','komal','aryan','arpit']\n",
        "state=['hp','punjab','hp','up']\n",
        "\n",
        "price=[1000,1000,1200,1300]\n",
        "unique_name=[]\n",
        "sale=[]\n",
        "for i in name:\n",
        "  if i not in unique_name:\n",
        "    unique_name.append(i)\n",
        "    sale.append(0)\n",
        "print(unique_name)\n",
        "for j in range(len(name)):\n",
        "  index=unique_name.index(name[j])\n",
        "  sale[index]=sale[index]+price[j]\n",
        "print(sale)\n",
        "unique_state=[]\n",
        "sale=[]\n",
        "for i in state:\n",
        "  if i not in unique_state:\n",
        "    unique_state.append(i)\n",
        "    sale.append(0)\n",
        "print(unique_state)\n",
        "for j in range (len(state)):\n",
        "  index= unique_state.index(state[j])\n",
        "  sale[index]=sale[index]+price[j]\n",
        "print(sale)"
      ],
      "metadata": {
        "id": "Sqot5eBd7ZRf"
      },
      "execution_count": null,
      "outputs": []
    },
    {
      "cell_type": "code",
      "source": [
        "num= int(input(\"Enter number\"))\n",
        "temp=num\n",
        "rev=0\n",
        "while num>0:\n",
        "  digit=num%10\n",
        "  rev = rev*10+digit\n",
        "  num=num//10\n",
        "print(rev)\n",
        "if temp==rev:\n",
        "  print(\"Palindrome\")\n",
        "else:\n",
        "  print(\"not Palindrome\")"
      ],
      "metadata": {
        "colab": {
          "base_uri": "https://localhost:8080/"
        },
        "id": "gUPvSyh-vVbz",
        "outputId": "59e5ed1f-d992-4f8e-de9a-8a68da58b5fa"
      },
      "execution_count": 7,
      "outputs": [
        {
          "output_type": "stream",
          "name": "stdout",
          "text": [
            "Enter number12345\n",
            "54321\n",
            "not Palindrome\n"
          ]
        }
      ]
    },
    {
      "cell_type": "code",
      "source": [],
      "metadata": {
        "id": "9JAGikbCwyq9"
      },
      "execution_count": null,
      "outputs": []
    }
  ]
}