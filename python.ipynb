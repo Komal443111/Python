{
  "nbformat": 4,
  "nbformat_minor": 0,
  "metadata": {
    "colab": {
      "provenance": [],
      "authorship_tag": "ABX9TyOfhBWqJTMFm39vW17uqhN7",
      "include_colab_link": true
    },
    "kernelspec": {
      "name": "python3",
      "display_name": "Python 3"
    },
    "language_info": {
      "name": "python"
    }
  },
  "cells": [
    {
      "cell_type": "markdown",
      "metadata": {
        "id": "view-in-github",
        "colab_type": "text"
      },
      "source": [
        "<a href=\"https://colab.research.google.com/github/Komal443111/Python/blob/main/python.ipynb\" target=\"_parent\"><img src=\"https://colab.research.google.com/assets/colab-badge.svg\" alt=\"Open In Colab\"/></a>"
      ]
    },
    {
      "cell_type": "code",
      "execution_count": null,
      "metadata": {
        "colab": {
          "base_uri": "https://localhost:8080/"
        },
        "id": "brQhvZBtRu1n",
        "outputId": "a20b9fe1-2e9d-4576-c22c-3c43b0351013"
      },
      "outputs": [
        {
          "output_type": "stream",
          "name": "stdout",
          "text": [
            "hello world\n"
          ]
        }
      ],
      "source": [
        "print(\"hello world\")"
      ]
    },
    {
      "cell_type": "code",
      "source": [
        "# biodata\n",
        "\n",
        "user_name = input(\"Enter your Name\")\n",
        "father_name = input(\"Enter your Father's name\")\n",
        "age = int(input(\"Enter your Age\"))\n",
        "dob = input(\"Enter your Date of Birth\")\n",
        "gender = input(\"Enter your Gender\")\n",
        "state = input(\"Enter your State\")\n",
        "nationality = input(\"Enter your Nationality\")\n",
        "religion= input(\"Enter your Religion\")\n",
        "occupation= input(\"Enter your Occupation \")\n",
        "education=input(\"Enter your Education\")\n",
        "language=input(\"Enter Languages you know\")\n",
        "#Output\n",
        "\n",
        "print(\"Name: \",user_name)\n",
        "print(\"Father's name is: \",father_name)\n",
        "print(\"Age: \",age)\n",
        "print(\"DOB: \",dob)\n",
        "print(\"Gender: \", gender)\n",
        "print(\"State: \",state)\n",
        "print(\"Nationality: \",nationality)\n",
        "print(\"Religion: \",religion)\n",
        "print(\"Occupation: \",occupation)\n",
        "print(\"Education: \",education)\n",
        "print(\"Language:\",language)\n",
        "\n",
        "\n",
        "\n"
      ],
      "metadata": {
        "id": "nQB-tzATbrPd"
      },
      "execution_count": null,
      "outputs": []
    },
    {
      "cell_type": "code",
      "source": [
        "#get quantities\n",
        "pizza_quantity = int(input(\"Enter the number of pizza: \"))\n",
        "burger_quantity = int(input(\"Enter the number of burger: \"))\n",
        "pasta_quantity = int(input(\"Enter the quantity of pasta: \"))\n",
        "sandwiches_quantity =int(input(\"Enter the number of sandwiches: \"))\n",
        "# calculate prices\n",
        "pizza_price = pizza_quantity*200\n",
        "burger_price = burger_quantity*70\n",
        "pasta_price = pasta_quantity*90\n",
        "sandwiches_price = sandwiches_quantity*90\n",
        "# calculate the total bill\n",
        "total_bill = (pizza_price+burger_price+pasta_price+sandwiches_price)\n",
        "# display total bill\n",
        "print(\"total bill: \", total_bill)\n",
        "discout= total_bill*10/100\n",
        "print(\"total+discout\",total_bill-discout)\n"
      ],
      "metadata": {
        "id": "zlJfjXZ6p7ge",
        "colab": {
          "base_uri": "https://localhost:8080/"
        },
        "outputId": "46afb843-dd8f-4ae1-c270-3885dd8c0c1c"
      },
      "execution_count": 5,
      "outputs": [
        {
          "output_type": "stream",
          "name": "stdout",
          "text": [
            "Enter the number of pizza: 1\n",
            "Enter the number of burger: 2\n",
            "Enter the quantity of pasta: 0\n",
            "Enter the number of sandwiches: 0\n",
            "total bill:  340\n",
            "total+discout 306.0\n"
          ]
        }
      ]
    }
  ]
}